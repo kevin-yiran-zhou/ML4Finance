{
  "nbformat": 4,
  "nbformat_minor": 0,
  "metadata": {
    "colab": {
      "provenance": [],
      "include_colab_link": true
    },
    "kernelspec": {
      "name": "python3",
      "display_name": "Python 3"
    },
    "language_info": {
      "name": "python"
    }
  },
  "cells": [
    {
      "cell_type": "markdown",
      "metadata": {
        "id": "view-in-github",
        "colab_type": "text"
      },
      "source": [
        "<a href=\"https://colab.research.google.com/github/kevin-yiran-zhou/ML4Finance/blob/main/Proj3_Feature_Engineering_%2B_DL_Model.ipynb\" target=\"_parent\"><img src=\"https://colab.research.google.com/assets/colab-badge.svg\" alt=\"Open In Colab\"/></a>"
      ]
    },
    {
      "cell_type": "markdown",
      "source": [
        "## Feature Engineering"
      ],
      "metadata": {
        "id": "24ZpiDdLSI2v"
      }
    },
    {
      "cell_type": "markdown",
      "source": [
        "\n",
        "*   The fourth project is the development of a notebook (code + explanation) that successfully engineers 12 unique types of features, **three** for each type of feature engineering: **transforming**, **interacting**, **mapping**, and **extracting**.\n",
        "* The second part of the assignment is the development of a **deep learning classification** model to predict the direction of the S&P500 for the dates **2018-01-01—2018-07-12** (test set).\n",
        "* The feature engineering section is unrelated to the model section, you can develop any features, not just features that would work for deep learning models (later on you can decide which features to use in your model).\n",
        "*  You also have to uncomment all the example features and make them run successfully  → **every** feature example has some error/s that you have to fix. Please also describe the error you fixed!\n",
        "*   Note that we *won't* be attempting to measure the quality of every feature (i.e., how much it improves the model), that is slightly too advanced for this course.\n"
      ],
      "metadata": {
        "id": "5ME79KRZSLdL"
      }
    },
    {
      "cell_type": "code",
      "execution_count": null,
      "metadata": {
        "id": "KK3ah2-KR7Mc"
      },
      "outputs": [],
      "source": [
        "import pandas as pd\n",
        "import numpy as np\n",
        "import matplotlib.pyplot as plt\n",
        "import matplotlib.patches as mpatches\n",
        "import seaborn as sns"
      ]
    },
    {
      "cell_type": "markdown",
      "source": [
        "Preparing the Data"
      ],
      "metadata": {
        "id": "y8DfulTBSAXT"
      }
    },
    {
      "cell_type": "code",
      "source": [
        "# preparing our data\n",
        "raw_prices = pd.read_csv(\"https://storage.googleapis.com/sovai-public/random/assetalloc.csv\", sep=';', parse_dates=True, index_col='Dates', dayfirst=True)\n",
        "df = raw_prices.sort_values(by='Dates')\n",
        "df[\"target\"] = df[\"SP500\"].pct_change().shift(-1)\n",
        "df[\"target\"] = np.where(df[\"target\"]>0,1,0)\n",
        "df.head()"
      ],
      "metadata": {
        "colab": {
          "base_uri": "https://localhost:8080/",
          "height": 257
        },
        "id": "F8Rf5rSWR-O4",
        "outputId": "778627e5-1915-416a-9768-13043308912f"
      },
      "execution_count": null,
      "outputs": [
        {
          "output_type": "execute_result",
          "data": {
            "text/plain": [
              "              FTSE  EuroStoxx50   SP500    Gold  French-2Y  French-5Y  \\\n",
              "Dates                                                                   \n",
              "1989-02-01  2039.7       875.47  297.09  392.50     99.081     99.039   \n",
              "1989-02-02  2043.4       878.08  296.84  392.00     98.898     99.117   \n",
              "1989-02-03  2069.9       884.09  296.97  388.75     98.907     99.002   \n",
              "1989-02-06  2044.3       885.49  296.04  388.00     98.484     98.502   \n",
              "1989-02-07  2072.8       883.82  299.63  392.75     98.438     98.312   \n",
              "\n",
              "            French-10Y  French-30Y    US-2Y    US-5Y   US-10Y   US-30Y  \\\n",
              "Dates                                                                    \n",
              "1989-02-01      99.572     100.000  100.031  100.345  101.080  101.936   \n",
              "1989-02-02      99.278      99.692  100.000  100.314  101.017  101.905   \n",
              "1989-02-03      99.145      99.178   99.812  100.062  100.921  101.718   \n",
              "1989-02-06      98.510      97.739   99.812  100.062  100.794  101.468   \n",
              "1989-02-07      98.292      97.688   99.906  100.251  101.144  102.092   \n",
              "\n",
              "            Russel2000  EuroStox_Small  FTSE_Small  MSCI_EM     CRB  target  \n",
              "Dates                                                                        \n",
              "1989-02-01      154.38          117.50     1636.57  133.584  286.67       0  \n",
              "1989-02-02      154.94          117.69     1642.94  135.052  287.03       1  \n",
              "1989-02-03      155.69          118.62     1659.11  137.134  285.63       0  \n",
              "1989-02-06      155.58          118.89     1656.86  137.037  284.69       1  \n",
              "1989-02-07      156.84          118.28     1662.76  136.914  284.21       0  "
            ],
            "text/html": [
              "\n",
              "  <div id=\"df-ce4fffed-3caf-4f6a-b673-1890334ef29a\" class=\"colab-df-container\">\n",
              "    <div>\n",
              "<style scoped>\n",
              "    .dataframe tbody tr th:only-of-type {\n",
              "        vertical-align: middle;\n",
              "    }\n",
              "\n",
              "    .dataframe tbody tr th {\n",
              "        vertical-align: top;\n",
              "    }\n",
              "\n",
              "    .dataframe thead th {\n",
              "        text-align: right;\n",
              "    }\n",
              "</style>\n",
              "<table border=\"1\" class=\"dataframe\">\n",
              "  <thead>\n",
              "    <tr style=\"text-align: right;\">\n",
              "      <th></th>\n",
              "      <th>FTSE</th>\n",
              "      <th>EuroStoxx50</th>\n",
              "      <th>SP500</th>\n",
              "      <th>Gold</th>\n",
              "      <th>French-2Y</th>\n",
              "      <th>French-5Y</th>\n",
              "      <th>French-10Y</th>\n",
              "      <th>French-30Y</th>\n",
              "      <th>US-2Y</th>\n",
              "      <th>US-5Y</th>\n",
              "      <th>US-10Y</th>\n",
              "      <th>US-30Y</th>\n",
              "      <th>Russel2000</th>\n",
              "      <th>EuroStox_Small</th>\n",
              "      <th>FTSE_Small</th>\n",
              "      <th>MSCI_EM</th>\n",
              "      <th>CRB</th>\n",
              "      <th>target</th>\n",
              "    </tr>\n",
              "    <tr>\n",
              "      <th>Dates</th>\n",
              "      <th></th>\n",
              "      <th></th>\n",
              "      <th></th>\n",
              "      <th></th>\n",
              "      <th></th>\n",
              "      <th></th>\n",
              "      <th></th>\n",
              "      <th></th>\n",
              "      <th></th>\n",
              "      <th></th>\n",
              "      <th></th>\n",
              "      <th></th>\n",
              "      <th></th>\n",
              "      <th></th>\n",
              "      <th></th>\n",
              "      <th></th>\n",
              "      <th></th>\n",
              "      <th></th>\n",
              "    </tr>\n",
              "  </thead>\n",
              "  <tbody>\n",
              "    <tr>\n",
              "      <th>1989-02-01</th>\n",
              "      <td>2039.7</td>\n",
              "      <td>875.47</td>\n",
              "      <td>297.09</td>\n",
              "      <td>392.50</td>\n",
              "      <td>99.081</td>\n",
              "      <td>99.039</td>\n",
              "      <td>99.572</td>\n",
              "      <td>100.000</td>\n",
              "      <td>100.031</td>\n",
              "      <td>100.345</td>\n",
              "      <td>101.080</td>\n",
              "      <td>101.936</td>\n",
              "      <td>154.38</td>\n",
              "      <td>117.50</td>\n",
              "      <td>1636.57</td>\n",
              "      <td>133.584</td>\n",
              "      <td>286.67</td>\n",
              "      <td>0</td>\n",
              "    </tr>\n",
              "    <tr>\n",
              "      <th>1989-02-02</th>\n",
              "      <td>2043.4</td>\n",
              "      <td>878.08</td>\n",
              "      <td>296.84</td>\n",
              "      <td>392.00</td>\n",
              "      <td>98.898</td>\n",
              "      <td>99.117</td>\n",
              "      <td>99.278</td>\n",
              "      <td>99.692</td>\n",
              "      <td>100.000</td>\n",
              "      <td>100.314</td>\n",
              "      <td>101.017</td>\n",
              "      <td>101.905</td>\n",
              "      <td>154.94</td>\n",
              "      <td>117.69</td>\n",
              "      <td>1642.94</td>\n",
              "      <td>135.052</td>\n",
              "      <td>287.03</td>\n",
              "      <td>1</td>\n",
              "    </tr>\n",
              "    <tr>\n",
              "      <th>1989-02-03</th>\n",
              "      <td>2069.9</td>\n",
              "      <td>884.09</td>\n",
              "      <td>296.97</td>\n",
              "      <td>388.75</td>\n",
              "      <td>98.907</td>\n",
              "      <td>99.002</td>\n",
              "      <td>99.145</td>\n",
              "      <td>99.178</td>\n",
              "      <td>99.812</td>\n",
              "      <td>100.062</td>\n",
              "      <td>100.921</td>\n",
              "      <td>101.718</td>\n",
              "      <td>155.69</td>\n",
              "      <td>118.62</td>\n",
              "      <td>1659.11</td>\n",
              "      <td>137.134</td>\n",
              "      <td>285.63</td>\n",
              "      <td>0</td>\n",
              "    </tr>\n",
              "    <tr>\n",
              "      <th>1989-02-06</th>\n",
              "      <td>2044.3</td>\n",
              "      <td>885.49</td>\n",
              "      <td>296.04</td>\n",
              "      <td>388.00</td>\n",
              "      <td>98.484</td>\n",
              "      <td>98.502</td>\n",
              "      <td>98.510</td>\n",
              "      <td>97.739</td>\n",
              "      <td>99.812</td>\n",
              "      <td>100.062</td>\n",
              "      <td>100.794</td>\n",
              "      <td>101.468</td>\n",
              "      <td>155.58</td>\n",
              "      <td>118.89</td>\n",
              "      <td>1656.86</td>\n",
              "      <td>137.037</td>\n",
              "      <td>284.69</td>\n",
              "      <td>1</td>\n",
              "    </tr>\n",
              "    <tr>\n",
              "      <th>1989-02-07</th>\n",
              "      <td>2072.8</td>\n",
              "      <td>883.82</td>\n",
              "      <td>299.63</td>\n",
              "      <td>392.75</td>\n",
              "      <td>98.438</td>\n",
              "      <td>98.312</td>\n",
              "      <td>98.292</td>\n",
              "      <td>97.688</td>\n",
              "      <td>99.906</td>\n",
              "      <td>100.251</td>\n",
              "      <td>101.144</td>\n",
              "      <td>102.092</td>\n",
              "      <td>156.84</td>\n",
              "      <td>118.28</td>\n",
              "      <td>1662.76</td>\n",
              "      <td>136.914</td>\n",
              "      <td>284.21</td>\n",
              "      <td>0</td>\n",
              "    </tr>\n",
              "  </tbody>\n",
              "</table>\n",
              "</div>\n",
              "    <div class=\"colab-df-buttons\">\n",
              "\n",
              "  <div class=\"colab-df-container\">\n",
              "    <button class=\"colab-df-convert\" onclick=\"convertToInteractive('df-ce4fffed-3caf-4f6a-b673-1890334ef29a')\"\n",
              "            title=\"Convert this dataframe to an interactive table.\"\n",
              "            style=\"display:none;\">\n",
              "\n",
              "  <svg xmlns=\"http://www.w3.org/2000/svg\" height=\"24px\" viewBox=\"0 -960 960 960\">\n",
              "    <path d=\"M120-120v-720h720v720H120Zm60-500h600v-160H180v160Zm220 220h160v-160H400v160Zm0 220h160v-160H400v160ZM180-400h160v-160H180v160Zm440 0h160v-160H620v160ZM180-180h160v-160H180v160Zm440 0h160v-160H620v160Z\"/>\n",
              "  </svg>\n",
              "    </button>\n",
              "\n",
              "  <style>\n",
              "    .colab-df-container {\n",
              "      display:flex;\n",
              "      gap: 12px;\n",
              "    }\n",
              "\n",
              "    .colab-df-convert {\n",
              "      background-color: #E8F0FE;\n",
              "      border: none;\n",
              "      border-radius: 50%;\n",
              "      cursor: pointer;\n",
              "      display: none;\n",
              "      fill: #1967D2;\n",
              "      height: 32px;\n",
              "      padding: 0 0 0 0;\n",
              "      width: 32px;\n",
              "    }\n",
              "\n",
              "    .colab-df-convert:hover {\n",
              "      background-color: #E2EBFA;\n",
              "      box-shadow: 0px 1px 2px rgba(60, 64, 67, 0.3), 0px 1px 3px 1px rgba(60, 64, 67, 0.15);\n",
              "      fill: #174EA6;\n",
              "    }\n",
              "\n",
              "    .colab-df-buttons div {\n",
              "      margin-bottom: 4px;\n",
              "    }\n",
              "\n",
              "    [theme=dark] .colab-df-convert {\n",
              "      background-color: #3B4455;\n",
              "      fill: #D2E3FC;\n",
              "    }\n",
              "\n",
              "    [theme=dark] .colab-df-convert:hover {\n",
              "      background-color: #434B5C;\n",
              "      box-shadow: 0px 1px 3px 1px rgba(0, 0, 0, 0.15);\n",
              "      filter: drop-shadow(0px 1px 2px rgba(0, 0, 0, 0.3));\n",
              "      fill: #FFFFFF;\n",
              "    }\n",
              "  </style>\n",
              "\n",
              "    <script>\n",
              "      const buttonEl =\n",
              "        document.querySelector('#df-ce4fffed-3caf-4f6a-b673-1890334ef29a button.colab-df-convert');\n",
              "      buttonEl.style.display =\n",
              "        google.colab.kernel.accessAllowed ? 'block' : 'none';\n",
              "\n",
              "      async function convertToInteractive(key) {\n",
              "        const element = document.querySelector('#df-ce4fffed-3caf-4f6a-b673-1890334ef29a');\n",
              "        const dataTable =\n",
              "          await google.colab.kernel.invokeFunction('convertToInteractive',\n",
              "                                                    [key], {});\n",
              "        if (!dataTable) return;\n",
              "\n",
              "        const docLinkHtml = 'Like what you see? Visit the ' +\n",
              "          '<a target=\"_blank\" href=https://colab.research.google.com/notebooks/data_table.ipynb>data table notebook</a>'\n",
              "          + ' to learn more about interactive tables.';\n",
              "        element.innerHTML = '';\n",
              "        dataTable['output_type'] = 'display_data';\n",
              "        await google.colab.output.renderOutput(dataTable, element);\n",
              "        const docLink = document.createElement('div');\n",
              "        docLink.innerHTML = docLinkHtml;\n",
              "        element.appendChild(docLink);\n",
              "      }\n",
              "    </script>\n",
              "  </div>\n",
              "\n",
              "\n",
              "<div id=\"df-9a683815-4629-48a8-a7c3-0a030e8744e9\">\n",
              "  <button class=\"colab-df-quickchart\" onclick=\"quickchart('df-9a683815-4629-48a8-a7c3-0a030e8744e9')\"\n",
              "            title=\"Suggest charts\"\n",
              "            style=\"display:none;\">\n",
              "\n",
              "<svg xmlns=\"http://www.w3.org/2000/svg\" height=\"24px\"viewBox=\"0 0 24 24\"\n",
              "     width=\"24px\">\n",
              "    <g>\n",
              "        <path d=\"M19 3H5c-1.1 0-2 .9-2 2v14c0 1.1.9 2 2 2h14c1.1 0 2-.9 2-2V5c0-1.1-.9-2-2-2zM9 17H7v-7h2v7zm4 0h-2V7h2v10zm4 0h-2v-4h2v4z\"/>\n",
              "    </g>\n",
              "</svg>\n",
              "  </button>\n",
              "\n",
              "<style>\n",
              "  .colab-df-quickchart {\n",
              "      --bg-color: #E8F0FE;\n",
              "      --fill-color: #1967D2;\n",
              "      --hover-bg-color: #E2EBFA;\n",
              "      --hover-fill-color: #174EA6;\n",
              "      --disabled-fill-color: #AAA;\n",
              "      --disabled-bg-color: #DDD;\n",
              "  }\n",
              "\n",
              "  [theme=dark] .colab-df-quickchart {\n",
              "      --bg-color: #3B4455;\n",
              "      --fill-color: #D2E3FC;\n",
              "      --hover-bg-color: #434B5C;\n",
              "      --hover-fill-color: #FFFFFF;\n",
              "      --disabled-bg-color: #3B4455;\n",
              "      --disabled-fill-color: #666;\n",
              "  }\n",
              "\n",
              "  .colab-df-quickchart {\n",
              "    background-color: var(--bg-color);\n",
              "    border: none;\n",
              "    border-radius: 50%;\n",
              "    cursor: pointer;\n",
              "    display: none;\n",
              "    fill: var(--fill-color);\n",
              "    height: 32px;\n",
              "    padding: 0;\n",
              "    width: 32px;\n",
              "  }\n",
              "\n",
              "  .colab-df-quickchart:hover {\n",
              "    background-color: var(--hover-bg-color);\n",
              "    box-shadow: 0 1px 2px rgba(60, 64, 67, 0.3), 0 1px 3px 1px rgba(60, 64, 67, 0.15);\n",
              "    fill: var(--button-hover-fill-color);\n",
              "  }\n",
              "\n",
              "  .colab-df-quickchart-complete:disabled,\n",
              "  .colab-df-quickchart-complete:disabled:hover {\n",
              "    background-color: var(--disabled-bg-color);\n",
              "    fill: var(--disabled-fill-color);\n",
              "    box-shadow: none;\n",
              "  }\n",
              "\n",
              "  .colab-df-spinner {\n",
              "    border: 2px solid var(--fill-color);\n",
              "    border-color: transparent;\n",
              "    border-bottom-color: var(--fill-color);\n",
              "    animation:\n",
              "      spin 1s steps(1) infinite;\n",
              "  }\n",
              "\n",
              "  @keyframes spin {\n",
              "    0% {\n",
              "      border-color: transparent;\n",
              "      border-bottom-color: var(--fill-color);\n",
              "      border-left-color: var(--fill-color);\n",
              "    }\n",
              "    20% {\n",
              "      border-color: transparent;\n",
              "      border-left-color: var(--fill-color);\n",
              "      border-top-color: var(--fill-color);\n",
              "    }\n",
              "    30% {\n",
              "      border-color: transparent;\n",
              "      border-left-color: var(--fill-color);\n",
              "      border-top-color: var(--fill-color);\n",
              "      border-right-color: var(--fill-color);\n",
              "    }\n",
              "    40% {\n",
              "      border-color: transparent;\n",
              "      border-right-color: var(--fill-color);\n",
              "      border-top-color: var(--fill-color);\n",
              "    }\n",
              "    60% {\n",
              "      border-color: transparent;\n",
              "      border-right-color: var(--fill-color);\n",
              "    }\n",
              "    80% {\n",
              "      border-color: transparent;\n",
              "      border-right-color: var(--fill-color);\n",
              "      border-bottom-color: var(--fill-color);\n",
              "    }\n",
              "    90% {\n",
              "      border-color: transparent;\n",
              "      border-bottom-color: var(--fill-color);\n",
              "    }\n",
              "  }\n",
              "</style>\n",
              "\n",
              "  <script>\n",
              "    async function quickchart(key) {\n",
              "      const quickchartButtonEl =\n",
              "        document.querySelector('#' + key + ' button');\n",
              "      quickchartButtonEl.disabled = true;  // To prevent multiple clicks.\n",
              "      quickchartButtonEl.classList.add('colab-df-spinner');\n",
              "      try {\n",
              "        const charts = await google.colab.kernel.invokeFunction(\n",
              "            'suggestCharts', [key], {});\n",
              "      } catch (error) {\n",
              "        console.error('Error during call to suggestCharts:', error);\n",
              "      }\n",
              "      quickchartButtonEl.classList.remove('colab-df-spinner');\n",
              "      quickchartButtonEl.classList.add('colab-df-quickchart-complete');\n",
              "    }\n",
              "    (() => {\n",
              "      let quickchartButtonEl =\n",
              "        document.querySelector('#df-9a683815-4629-48a8-a7c3-0a030e8744e9 button');\n",
              "      quickchartButtonEl.style.display =\n",
              "        google.colab.kernel.accessAllowed ? 'block' : 'none';\n",
              "    })();\n",
              "  </script>\n",
              "</div>\n",
              "\n",
              "    </div>\n",
              "  </div>\n"
            ],
            "application/vnd.google.colaboratory.intrinsic+json": {
              "type": "dataframe",
              "variable_name": "df",
              "summary": "{\n  \"name\": \"df\",\n  \"rows\": 7682,\n  \"fields\": [\n    {\n      \"column\": \"Dates\",\n      \"properties\": {\n        \"dtype\": \"date\",\n        \"min\": \"1989-02-01 00:00:00\",\n        \"max\": \"2018-07-12 00:00:00\",\n        \"num_unique_values\": 7682,\n        \"samples\": [\n          \"1997-06-26 00:00:00\",\n          \"1999-02-12 00:00:00\",\n          \"2012-01-24 00:00:00\"\n        ],\n        \"semantic_type\": \"\",\n        \"description\": \"\"\n      }\n    },\n    {\n      \"column\": \"FTSE\",\n      \"properties\": {\n        \"dtype\": \"number\",\n        \"std\": 1542.4402971717016,\n        \"min\": 1990.2,\n        \"max\": 7877.45,\n        \"num_unique_values\": 7259,\n        \"samples\": [\n          6620.1,\n          2464.9,\n          6269.21\n        ],\n        \"semantic_type\": \"\",\n        \"description\": \"\"\n      }\n    },\n    {\n      \"column\": \"EuroStoxx50\",\n      \"properties\": {\n        \"dtype\": \"number\",\n        \"std\": 1093.5939063354595,\n        \"min\": 818.5,\n        \"max\": 5464.43,\n        \"num_unique_values\": 7504,\n        \"samples\": [\n          2713.24,\n          3702.89,\n          3485.38\n        ],\n        \"semantic_type\": \"\",\n        \"description\": \"\"\n      }\n    },\n    {\n      \"column\": \"SP500\",\n      \"properties\": {\n        \"dtype\": \"number\",\n        \"std\": 588.8160436920891,\n        \"min\": 287.11,\n        \"max\": 2872.87,\n        \"num_unique_values\": 7197,\n        \"samples\": [\n          1029.03,\n          927.69,\n          652.09\n        ],\n        \"semantic_type\": \"\",\n        \"description\": \"\"\n      }\n    },\n    {\n      \"column\": \"Gold\",\n      \"properties\": {\n        \"dtype\": \"number\",\n        \"std\": 456.20524701398335,\n        \"min\": 252.85,\n        \"max\": 1898.25,\n        \"num_unique_values\": 5225,\n        \"samples\": [\n          341.0,\n          1238.1,\n          393.25\n        ],\n        \"semantic_type\": \"\",\n        \"description\": \"\"\n      }\n    },\n    {\n      \"column\": \"French-2Y\",\n      \"properties\": {\n        \"dtype\": \"number\",\n        \"std\": 4.651300617608227,\n        \"min\": 89.925,\n        \"max\": 111.218,\n        \"num_unique_values\": 5174,\n        \"samples\": [\n          108.5,\n          107.575,\n          102.62\n        ],\n        \"semantic_type\": \"\",\n        \"description\": \"\"\n      }\n    },\n    {\n      \"column\": \"French-5Y\",\n      \"properties\": {\n        \"dtype\": \"number\",\n        \"std\": 18.055983482701684,\n        \"min\": 91.211,\n        \"max\": 157.86,\n        \"num_unique_values\": 6401,\n        \"samples\": [\n          107.125,\n          137.21,\n          144.204\n        ],\n        \"semantic_type\": \"\",\n        \"description\": \"\"\n      }\n    },\n    {\n      \"column\": \"French-10Y\",\n      \"properties\": {\n        \"dtype\": \"number\",\n        \"std\": 32.71896379431956,\n        \"min\": 88.147,\n        \"max\": 217.376,\n        \"num_unique_values\": 6723,\n        \"samples\": [\n          177.285,\n          142.007,\n          134.742\n        ],\n        \"semantic_type\": \"\",\n        \"description\": \"\"\n      }\n    },\n    {\n      \"column\": \"French-30Y\",\n      \"properties\": {\n        \"dtype\": \"number\",\n        \"std\": 59.92222084592716,\n        \"min\": 80.873,\n        \"max\": 345.245,\n        \"num_unique_values\": 6661,\n        \"samples\": [\n          222.308,\n          183.291,\n          99.964\n        ],\n        \"semantic_type\": \"\",\n        \"description\": \"\"\n      }\n    },\n    {\n      \"column\": \"US-2Y\",\n      \"properties\": {\n        \"dtype\": \"number\",\n        \"std\": 8.245838181332683,\n        \"min\": 98.684,\n        \"max\": 126.921,\n        \"num_unique_values\": 4337,\n        \"samples\": [\n          126.632,\n          106.423,\n          111.802\n        ],\n        \"semantic_type\": \"\",\n        \"description\": \"\"\n      }\n    },\n    {\n      \"column\": \"US-5Y\",\n      \"properties\": {\n        \"dtype\": \"number\",\n        \"std\": 16.734644822986617,\n        \"min\": 97.479,\n        \"max\": 156.652,\n        \"num_unique_values\": 6010,\n        \"samples\": [\n          102.626,\n          131.681,\n          121.761\n        ],\n        \"semantic_type\": \"\",\n        \"description\": \"\"\n      }\n    },\n    {\n      \"column\": \"US-10Y\",\n      \"properties\": {\n        \"dtype\": \"number\",\n        \"std\": 16.605919511464062,\n        \"min\": 97.361,\n        \"max\": 163.328,\n        \"num_unique_values\": 6326,\n        \"samples\": [\n          105.964,\n          110.411,\n          125.262\n        ],\n        \"semantic_type\": \"\",\n        \"description\": \"\"\n      }\n    },\n    {\n      \"column\": \"US-30Y\",\n      \"properties\": {\n        \"dtype\": \"number\",\n        \"std\": 21.411652782457853,\n        \"min\": 96.579,\n        \"max\": 195.414,\n        \"num_unique_values\": 6614,\n        \"samples\": [\n          136.9,\n          116.513,\n          124.374\n        ],\n        \"semantic_type\": \"\",\n        \"description\": \"\"\n      }\n    },\n    {\n      \"column\": \"Russel2000\",\n      \"properties\": {\n        \"dtype\": \"number\",\n        \"std\": 363.3770819922586,\n        \"min\": 118.82,\n        \"max\": 1706.99,\n        \"num_unique_values\": 7109,\n        \"samples\": [\n          131.65,\n          365.59,\n          1275.35\n        ],\n        \"semantic_type\": \"\",\n        \"description\": \"\"\n      }\n    },\n    {\n      \"column\": \"EuroStox_Small\",\n      \"properties\": {\n        \"dtype\": \"number\",\n        \"std\": 48.682884848383615,\n        \"min\": 76.89,\n        \"max\": 279.741,\n        \"num_unique_values\": 6781,\n        \"samples\": [\n          147.709,\n          217.413,\n          185.175\n        ],\n        \"semantic_type\": \"\",\n        \"description\": \"\"\n      }\n    },\n    {\n      \"column\": \"FTSE_Small\",\n      \"properties\": {\n        \"dtype\": \"number\",\n        \"std\": 1157.500615405768,\n        \"min\": 1093.52,\n        \"max\": 6048.96,\n        \"num_unique_values\": 7351,\n        \"samples\": [\n          3397.72,\n          1782.13,\n          3744.4\n        ],\n        \"semantic_type\": \"\",\n        \"description\": \"\"\n      }\n    },\n    {\n      \"column\": \"MSCI_EM\",\n      \"properties\": {\n        \"dtype\": \"number\",\n        \"std\": 315.9149526488423,\n        \"min\": 133.584,\n        \"max\": 1338.487,\n        \"num_unique_values\": 7626,\n        \"samples\": [\n          263.709,\n          476.334,\n          561.076\n        ],\n        \"semantic_type\": \"\",\n        \"description\": \"\"\n      }\n    },\n    {\n      \"column\": \"CRB\",\n      \"properties\": {\n        \"dtype\": \"number\",\n        \"std\": 95.80469195462001,\n        \"min\": 205.62,\n        \"max\": 580.49,\n        \"num_unique_values\": 6195,\n        \"samples\": [\n          250.76,\n          231.8,\n          313.11\n        ],\n        \"semantic_type\": \"\",\n        \"description\": \"\"\n      }\n    },\n    {\n      \"column\": \"target\",\n      \"properties\": {\n        \"dtype\": \"number\",\n        \"std\": 0,\n        \"min\": 0,\n        \"max\": 1,\n        \"num_unique_values\": 2,\n        \"samples\": [\n          1,\n          0\n        ],\n        \"semantic_type\": \"\",\n        \"description\": \"\"\n      }\n    }\n  ]\n}"
            }
          },
          "metadata": {},
          "execution_count": 2
        }
      ]
    },
    {
      "cell_type": "markdown",
      "source": [
        "### Train Test Split"
      ],
      "metadata": {
        "id": "8KjWNbXqfZju"
      }
    },
    {
      "cell_type": "code",
      "source": [
        "from sklearn.model_selection import train_test_split\n",
        "y = df.pop(\"target\")\n",
        "X = df.copy()\n",
        "\n",
        "X_train = X[X.index.astype(str)<'2018-01-01']\n",
        "y_train = y[X_train.index]\n",
        "X_test = X[~X.index.isin(X_train.index)]\n",
        "y_test = y[X_test.index]\n",
        "\n",
        "# X_train, X_test, y_train, y_test = train_test_split(X, y, test_size=0.2, shuffle=False)"
      ],
      "metadata": {
        "id": "IZjqGkgbfYIb"
      },
      "execution_count": null,
      "outputs": []
    },
    {
      "cell_type": "markdown",
      "source": [
        "### Transforming"
      ],
      "metadata": {
        "id": "8khPX0DTStdP"
      }
    },
    {
      "cell_type": "markdown",
      "source": [
        "1. Refresh your mind on tranformation methods by going back to the material. I am simply providing 1 example here.\n",
        "1. Don't repeat my logarithmic return calculation, develop your own transformation (there are 1000s of types of transformations).\n",
        "1. In the example I provide, there is also an error that you have to fix. For example, one of the errors below is that you should actually use `np.log1p()`, but there is another one, so watch out!"
      ],
      "metadata": {
        "id": "y6ZyMnQ__B49"
      }
    },
    {
      "cell_type": "code",
      "source": [
        "# Example Transforming (has errors)\n",
        "\n",
        "# Name: Logarithmic return of FTSE\n",
        "# Description: Developing the logarithmic return feature for use within linear models that make normality assumptions.\n",
        "\n",
        "# df[\"FTSE_log\"] = np.log(df[\"FTSE\"])"
      ],
      "metadata": {
        "id": "4dwunC3GSrK2"
      },
      "execution_count": null,
      "outputs": []
    },
    {
      "cell_type": "code",
      "source": [
        "## Transforming 1 (Add code below)\n"
      ],
      "metadata": {
        "id": "8JvCCtvoT_2a"
      },
      "execution_count": null,
      "outputs": []
    },
    {
      "cell_type": "code",
      "source": [
        "## Transforming 2 (Add code below)\n"
      ],
      "metadata": {
        "id": "FOCuKHEmT_wU"
      },
      "execution_count": null,
      "outputs": []
    },
    {
      "cell_type": "code",
      "source": [
        "## Transforming 3 (Add code below)\n"
      ],
      "metadata": {
        "id": "ghn81UtvPYmF"
      },
      "execution_count": null,
      "outputs": []
    },
    {
      "cell_type": "markdown",
      "source": [
        "### Interacting"
      ],
      "metadata": {
        "id": "CiyIliYJTJRN"
      }
    },
    {
      "cell_type": "markdown",
      "source": [
        "There are millions of possible interaction methods, be creative and come up with your own. For this assignment there is no 'right' feature engineering method, you simply develop one, and give it a name and a discreption."
      ],
      "metadata": {
        "id": "XWuduQ-m_q7R"
      }
    },
    {
      "cell_type": "code",
      "source": [
        "# Example Interacting (has errors)\n",
        "\n",
        "# Name: Ratio of Gold return to 10Y treasury\n",
        "# Desciption: Both gold and treasuries are safe-haven assets and descrepency in their ratio could be a sign of some marco-economic event.\n",
        "\n",
        "# def gold_to_yield(df):\n",
        "#   teny_returns = df[\"US-10Y\"].pct_change()\n",
        "#   gold_returns = df[\"Gold\"]\n",
        "#   df[\"gold_r__div__teny_r\"] = gold_returns/teny_returns\n",
        "#   return df\n",
        "\n",
        "# X_train = gold_to_yield(X_train); X_test = gold_to_yield(X_test)"
      ],
      "metadata": {
        "id": "IN3tnhNUTDK3"
      },
      "execution_count": null,
      "outputs": []
    },
    {
      "cell_type": "code",
      "source": [
        "## Interacting 1 (Add code below)\n"
      ],
      "metadata": {
        "id": "hwB5gEVjT1dz"
      },
      "execution_count": null,
      "outputs": []
    },
    {
      "cell_type": "code",
      "source": [
        "## Interacting 2 (Add code below)\n"
      ],
      "metadata": {
        "id": "W-TYsjyUTuF2"
      },
      "execution_count": null,
      "outputs": []
    },
    {
      "cell_type": "code",
      "source": [
        "## Interacting 3 (Add code below)\n"
      ],
      "metadata": {
        "id": "7iClfjUDPWu2"
      },
      "execution_count": null,
      "outputs": []
    },
    {
      "cell_type": "markdown",
      "source": [
        "### Mapping"
      ],
      "metadata": {
        "id": "DwVvQ7NKdy6B"
      }
    },
    {
      "cell_type": "markdown",
      "source": [
        "This one is slightly harder, you have to identify other  dimensionality reduction methods, there are many more than just PCA. Maybe you can also look at performing the decompositions just on a single asset classes, e.g., US-2Y, US-5Y, US-10Y, US-30Y is a fixed income asset class, but there are a few others in the dataset."
      ],
      "metadata": {
        "id": "m4Rc0htlDnrA"
      }
    },
    {
      "cell_type": "code",
      "source": [
        "# Example Mapping (has errors)\n",
        "\n",
        "# Name: First prinicipal component of all of the assets returns\n",
        "# Description:For stocks the first component resmbles the return of the market, for multiple asset classes it could resemble a 'universal' asset class\n",
        "\n",
        "\n",
        "# from sklearn.decomposition import PCA\n",
        "# from sklearn.preprocessing import StandardScaler\n",
        "\n",
        "# def pca_first(X_train, X_test):\n",
        "#   sc = StandardScaler()\n",
        "#   X_train_s = sc.fit_transform(X_train.fillna(0))\n",
        "#   X_test_s = sc.transform(X_test.fillna(0))\n",
        "\n",
        "#   pca = PCA(1)\n",
        "#   X_train[\"first_prinicipal\"] = pca.fit_transform(X_train_s.fillna(0))\n",
        "#   X_test[\"first_prinicipal\"] = pca.transform(X_test_s.fillna(0))\n",
        "#   return X_train, X_test\n",
        "\n",
        "# X_train, X_test = pca_first(X_train, X_test)\n",
        "\n",
        "# # ValueError: Input contains infinity or a value too large for dtype('float64')."
      ],
      "metadata": {
        "id": "IuR-aeFNd0LR"
      },
      "execution_count": null,
      "outputs": []
    },
    {
      "cell_type": "code",
      "source": [
        "## Mapping 1 (Add code below)\n"
      ],
      "metadata": {
        "id": "6XAoLXiajaIO"
      },
      "execution_count": null,
      "outputs": []
    },
    {
      "cell_type": "code",
      "source": [
        "## Mapping 2 (Add code below)\n"
      ],
      "metadata": {
        "id": "lUmRlTldjb63"
      },
      "execution_count": null,
      "outputs": []
    },
    {
      "cell_type": "code",
      "source": [
        "## Mapping 3 (Add code below)\n"
      ],
      "metadata": {
        "id": "eh6vU15ePTKm"
      },
      "execution_count": null,
      "outputs": []
    },
    {
      "cell_type": "markdown",
      "source": [
        "Extracting"
      ],
      "metadata": {
        "id": "KtRBRXeRd_ad"
      }
    },
    {
      "cell_type": "code",
      "source": [
        "# Example Extracting (has errors)\n",
        "# Name: Annualized volatility in returns\n",
        "# Description: We are developing an annualized volatility measure for all asset returns, which is a good measure of market turbulence\n",
        "\n",
        "# def vola(df):\n",
        "#   volatility = df.pct_change().rolling(window=365).std()*(365**0.5)\n",
        "#   new_names = [(i,i+'_vol') for i in df.columns.values]\n",
        "#   volatility.rename(columns = dict(new_names), inplace=True)\n",
        "#   df = pd.concat((df, volatility), axis=1)\n",
        "#   return df\n",
        "\n",
        "# X_train = vola(X_train); X_test = vola(X_test)"
      ],
      "metadata": {
        "id": "lHpV2LxIeA9i"
      },
      "execution_count": null,
      "outputs": []
    },
    {
      "cell_type": "code",
      "source": [
        "## Extracting 1 (Add code below)\n"
      ],
      "metadata": {
        "id": "P165fWF9PNdx"
      },
      "execution_count": null,
      "outputs": []
    },
    {
      "cell_type": "code",
      "source": [
        "## Extracting 2 (Add code below)\n"
      ],
      "metadata": {
        "id": "GODtIouyPQK-"
      },
      "execution_count": null,
      "outputs": []
    },
    {
      "cell_type": "code",
      "source": [
        "## Extracting 3 (Add code below)\n"
      ],
      "metadata": {
        "id": "Fi2MaoAcPRFH"
      },
      "execution_count": null,
      "outputs": []
    },
    {
      "cell_type": "markdown",
      "source": [
        "## Deep Learning Binary Classification"
      ],
      "metadata": {
        "id": "WhDvqiPnHccB"
      }
    },
    {
      "cell_type": "markdown",
      "source": [
        "* For the deep learning model you can perform new data preprocessing methods and new feature engineering that are better suited to neural networks. You can also use all or some of the features you developed above (most features work in deep learning models as long as they are normalized).\n",
        "* It is very hard to predict the stock price, so in my grading I will look more at the quality of the model you process (e.g., that there is no data leakage, that you performed some hyperparameter tuning).\n",
        "* Make sure that you switch your GPU on, you have access to it on Colab. The training stage also takes long, you might want to use a smaller amount of data, or fewer epochs at first to speed up your development process.\n",
        "* After your training is done, you don't have to save your model, but you do have to print the performance of your model. You can report two metrics the ROC(AUC) and the Accuracy against the test set.\n",
        "* Also remember to set the random seed (random state) so that when I run your software, I get similar results (the results doesn't have to be exactely the same).\n",
        "* You can choose any type of deep learning archetecture, e.g., LSTM, GRU, CNN, it is up to you.\n",
        "* Remember that this section is less that 25% of the grade, so don't waste your time here.\n",
        "* And lastly, remember this is the stock market, so it is **difficult** to have an accuracy above 50%, good luck!"
      ],
      "metadata": {
        "id": "JoNmgbgWHjGs"
      }
    },
    {
      "cell_type": "code",
      "source": [
        "## Implement Here\n",
        "\n",
        "\n"
      ],
      "metadata": {
        "id": "Rzk2wizgHwlP"
      },
      "execution_count": null,
      "outputs": []
    }
  ]
}